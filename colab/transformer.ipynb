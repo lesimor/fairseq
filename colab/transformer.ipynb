{
  "cells": [
    {
      "cell_type": "code",
      "execution_count": null,
      "metadata": {
        "colab": {
          "base_uri": "https://localhost:8080/"
        },
        "id": "X98L5asEdNSl",
        "outputId": "4a1fcdd9-3da2-409b-e632-ab19b84b748d"
      },
      "outputs": [],
      "source": [
        "import os \n",
        "from google.colab import drive\n",
        "drive.mount('/content/drive')\n",
        "\n",
        "# 샌드박스명 설정\n",
        "%env SANDBOX_NAME=byungwook\n",
        "# 브랜치명 설정 (lesimor/fairseq)\n",
        "%env BRANCH=feature/add_colab_notebook\n",
        "\n",
        "# TODO: 레포지토리 경로를 자신의 구글드라이브 환경에 맞게 수정해야 함\n",
        "os.environ[\"REPO_ROOT\"] = \"/content/drive/MyDrive/repos/fairseq\"\n",
        "\n",
        "REPO_ROOT=os.environ['REPO_ROOT']\n",
        "os.environ[\"TRANSLATION_ROOT\"] = f\"{REPO_ROOT}/examples/translation\"\n",
        "\n",
        "\n",
        "# TODO: 샌드박스명 설정\n",
        "sandbox_name = \"byungwook\"\n",
        "os.environ[\"SANDBOX_NAME\"] = sandbox_name\n",
        "\n",
        "sandbox_root = f\"{REPO_ROOT}/sandbox/translation-{sandbox_name}\"\n",
        "os.environ[\"SANDBOX_ROOT\"] = sandbox_root\n",
        "\n",
        "text_root = f\"{sandbox_root}/text\"\n",
        "os.environ[\"TEXT_ROOT\"] = text_root\n",
        "os.environ[\"TEXT\"] = f'{text_root}/iwslt14.tokenized.de-en'\n",
        "os.environ[\"DATABIN_ROOT\"] = f'{sandbox_root}/data-bin'\n",
        "os.environ[\"DATABIN\"] = f'{sandbox_root}/iwslt14.tokenized.de-en'\n",
        "os.environ[\"CHECKPOINT\"] = f'{sandbox_root}/checkpoints'\n",
        "\n",
        "# PYTHONPATH 설정\n",
        "if not REPO_ROOT in os.environ['PYTHONPATH'].split(':'):\n",
        "  os.environ['PYTHONPATH'] += f\":{REPO_ROOT}\" \n",
        "\n",
        "print(os.environ['PYTHONPATH'].split(':'))"
      ]
    },
    {
      "cell_type": "code",
      "execution_count": null,
      "metadata": {
        "colab": {
          "base_uri": "https://localhost:8080/"
        },
        "id": "WeO_qqSXdp6I",
        "outputId": "352a07a6-d101-40ed-ccfe-2f86379b7846"
      },
      "outputs": [],
      "source": [
        "# 이미 클론받았으면 패스\n",
        "%cd '/content/drive/MyDrive/repos'\n",
        "![ ! -d $REPO_ROOT ] && git clone https://github.com/lesimor/fairseq.git $REPO_ROOT\n",
        "\n",
        "%cd $REPO_ROOT\n",
        "!git fetch\n",
        "!git reset --hard origin/$BRANCH\n"
      ]
    },
    {
      "cell_type": "code",
      "execution_count": null,
      "metadata": {
        "colab": {
          "base_uri": "https://localhost:8080/"
        },
        "id": "-uv5VwbT0DH-",
        "outputId": "d6bc6346-5b0e-4e0a-96a4-67b63d263f3b"
      },
      "outputs": [],
      "source": [
        "# 레포지토리 루트로 이동\n",
        "import os\n",
        "path = os.environ['REPO_ROOT']\n",
        "os.chdir(path)\n",
        "\n",
        "# fairseq 설치\n",
        "!pip install --editable ."
      ]
    },
    {
      "cell_type": "code",
      "execution_count": null,
      "metadata": {
        "colab": {
          "base_uri": "https://localhost:8080/"
        },
        "id": "YyOzMl82d2NU",
        "outputId": "95ee10fd-6bbb-4d74-b16d-c99bb1835faf"
      },
      "outputs": [],
      "source": [
        "# translation example 디렉토리로 이동\n",
        "!mkdir -p $TEXT_ROOT\n",
        "\n",
        "import os\n",
        "path = os.environ['TEXT_ROOT']\n",
        "os.chdir(path)\n",
        "\n",
        "!bash $TRANSLATION_ROOT/prepare-iwslt14.sh"
      ]
    },
    {
      "cell_type": "code",
      "execution_count": null,
      "metadata": {
        "colab": {
          "base_uri": "https://localhost:8080/"
        },
        "id": "pRnON1sbdfxT",
        "outputId": "d98b91c9-26df-46d7-9971-5f9a37043819"
      },
      "outputs": [],
      "source": [
        "# 기존 디렉토리 제거\n",
        "!rm -rf $DATABIN_ROOT\n",
        "\n",
        "# train data 자르기\n",
        "! chmod +x $TRANSLATION_ROOT/cut_traindata.sh\n",
        "! $TRANSLATION_ROOT/cut_traindata.sh $TEXT 10000 \n",
        "\n",
        "# preprocessing\n",
        "![ ! -d $DATABIN_ROOT ] && fairseq-preprocess --source-lang de --target-lang en \\\n",
        "    --trainpref $TEXT/train-cut --validpref $TEXT/valid --testpref $TEXT/test \\\n",
        "    --destdir $DATABIN\n",
        "\n",
        "\n"
      ]
    },
    {
      "cell_type": "code",
      "execution_count": null,
      "metadata": {
        "colab": {
          "base_uri": "https://localhost:8080/"
        },
        "id": "QcQ3ef7O4r0x",
        "outputId": "95637c37-74d4-43f3-ddaf-dbf1714c89f2"
      },
      "outputs": [],
      "source": [
        "# 체크포인트를 저장할 디렉토리 생성\n",
        "!mkdir -p $CHECKPOINT\n",
        "\n",
        "! fairseq-train $DATABIN \\\n",
        "    --arch transformer_iwslt_de_en --save-dir $CHECKPOINT \\\n",
        "    --max-epoch 10 --max-tokens 4000 --optimizer adam"
      ]
    },
    {
      "cell_type": "markdown",
      "metadata": {
        "id": "17zWxolm5D2d"
      },
      "source": []
    }
  ],
  "metadata": {
    "colab": {
      "collapsed_sections": [],
      "name": "transformer",
      "provenance": []
    },
    "kernelspec": {
      "display_name": "Python 3",
      "name": "python3"
    },
    "language_info": {
      "name": "python"
    }
  },
  "nbformat": 4,
  "nbformat_minor": 0
}
