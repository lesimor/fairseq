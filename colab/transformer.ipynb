{
  "cells": [
    {
      "cell_type": "code",
      "execution_count": null,
      "metadata": {
        "colab": {
          "base_uri": "https://localhost:8080/"
        },
        "id": "X98L5asEdNSl",
        "outputId": "62634454-cfbd-466f-d9ae-82811ca8eb5a"
      },
      "outputs": [],
      "source": [
        "import os \n",
        "from google.colab import drive\n",
        "drive.mount('/content/drive')\n",
        "\n",
        "# TODO: 샌드박스명 설정\n",
        "%env SANDBOX_NAME=common\n",
        "# TODO: 브랜치명 설정 (lesimor/fairseq)\n",
        "%env BRANCH=feature/add_colab_notebook\n",
        "# TODO: 레포지토리 경로를 자신의 구글드라이브 환경에 맞게 수정해야 함\n",
        "%env REPO_ROOT=/content/drive/MyDrive/repos/fairseq\n",
        "\n",
        "REPO_ROOT=os.environ['REPO_ROOT']\n",
        "os.environ[\"TRANSLATION_ROOT\"] = f\"{REPO_ROOT}/examples/translation\"\n",
        "\n",
        "sandbox_name = os.environ[\"SANDBOX_NAME\"]\n",
        "os.environ[\"SANDBOX_NAME\"] = sandbox_name\n",
        "\n",
        "sandbox_root = f\"{REPO_ROOT}/sandbox/translation-{sandbox_name}\"\n",
        "os.environ[\"SANDBOX_ROOT\"] = sandbox_root\n",
        "\n",
        "text_root = f\"{sandbox_root}/text\"\n",
        "os.environ[\"TEXT_ROOT\"] = text_root\n",
        "os.environ[\"TEXT\"] = f'{text_root}/iwslt14.tokenized.de-en'\n",
        "\n",
        "databin_root = f'{sandbox_root}/data-bin'\n",
        "os.environ[\"DATABIN_ROOT\"] = databin_root\n",
        "os.environ[\"DATABIN\"] = f'{databin_root}/iwslt14.tokenized.de-en'\n",
        "os.environ[\"CHECKPOINT\"] = f'{sandbox_root}/checkpoints'\n",
        "\n",
        "# PYTHONPATH 설정\n",
        "if not REPO_ROOT in os.environ['PYTHONPATH'].split(':'):\n",
        "  os.environ['PYTHONPATH'] += f\":{REPO_ROOT}\" \n",
        "\n",
        "print(os.environ['PYTHONPATH'].split(':'))"
      ]
    },
    {
      "cell_type": "code",
      "execution_count": null,
      "metadata": {
        "colab": {
          "base_uri": "https://localhost:8080/"
        },
        "id": "WeO_qqSXdp6I",
        "outputId": "8633fc99-3e6e-4fcc-fd41-9d77516335f5"
      },
      "outputs": [],
      "source": [
        "# 이미 클론받았으면 패스\n",
        "![ ! -d $REPO_ROOT ] && git clone https://github.com/lesimor/fairseq.git $REPO_ROOT\n",
        "\n",
        "%cd $REPO_ROOT\n",
        "!git fetch\n",
        "!git reset --hard origin/$BRANCH"
      ]
    },
    {
      "cell_type": "code",
      "execution_count": null,
      "metadata": {
        "colab": {
          "base_uri": "https://localhost:8080/"
        },
        "id": "-uv5VwbT0DH-",
        "outputId": "73f74602-76fe-415d-f715-2b7bf4c89f35"
      },
      "outputs": [],
      "source": [
        "# 레포지토리 루트로 이동\n",
        "import os\n",
        "path = os.environ['REPO_ROOT']\n",
        "os.chdir(path)\n",
        "\n",
        "# fairseq 설치\n",
        "!pip install --editable ."
      ]
    },
    {
      "cell_type": "code",
      "execution_count": null,
      "metadata": {
        "colab": {
          "base_uri": "https://localhost:8080/"
        },
        "id": "YyOzMl82d2NU",
        "outputId": "c9c18d09-89f1-4ab3-9205-5421e49a950d"
      },
      "outputs": [],
      "source": [
        "# translation example 디렉토리로 이동\n",
        "!mkdir -p $TEXT_ROOT\n",
        "\n",
        "import os\n",
        "path = os.environ['TEXT_ROOT']\n",
        "os.chdir(path)\n",
        "\n",
        "!bash $TRANSLATION_ROOT/prepare-iwslt14.sh"
      ]
    },
    {
      "cell_type": "code",
      "execution_count": null,
      "metadata": {
        "colab": {
          "base_uri": "https://localhost:8080/"
        },
        "id": "pRnON1sbdfxT",
        "outputId": "e6c84929-4462-432b-c866-3b86256518ff"
      },
      "outputs": [],
      "source": [
        "# 기존 디렉토리 제거\n",
        "!rm -rf $DATABIN_ROOT\n",
        "\n",
        "# train data 자르기\n",
        "! chmod +x $TRANSLATION_ROOT/cut_traindata.sh\n",
        "! $TRANSLATION_ROOT/cut_traindata.sh $TEXT 100\n",
        "\n",
        "# preprocessing\n",
        "![ ! -d $DATABIN_ROOT ] && fairseq-preprocess --source-lang de --target-lang en \\\n",
        "    --trainpref $TEXT/train-cut --validpref $TEXT/valid --testpref $TEXT/test \\\n",
        "    --destdir $DATABIN\n",
        "\n",
        "\n"
      ]
    },
    {
      "cell_type": "code",
      "execution_count": null,
      "metadata": {
        "colab": {
          "base_uri": "https://localhost:8080/"
        },
        "id": "QcQ3ef7O4r0x",
        "outputId": "0bb705c7-ef0f-4a71-d7d7-bf819981ba47"
      },
      "outputs": [],
      "source": [
        "# 체크포인트를 저장할 디렉토리 생성\n",
        "!mkdir -p $CHECKPOINT\n",
        "\n",
        "! fairseq-train $DATABIN \\\n",
        "    --arch transformer_iwslt_de_en --save-dir $CHECKPOINT \\\n",
        "    --max-epoch 10 --max-tokens 4000 --optimizer adam"
      ]
    },
    {
      "cell_type": "code",
      "execution_count": null,
      "metadata": {
        "colab": {
          "base_uri": "https://localhost:8080/"
        },
        "id": "QlclXdR2ePqg",
        "outputId": "2b96190a-f167-4a39-a093-f69d68e7493f"
      },
      "outputs": [],
      "source": [
        "! python $REPO_ROOT/scripts/average_checkpoints.py \\\n",
        "    --inputs $CHECKPOINT \\\n",
        "    --num-epoch-checkpoints 3 \\\n",
        "    --output $CHECKPOINT/checkpoint.avg3.ptver"
      ]
    },
    {
      "cell_type": "code",
      "execution_count": null,
      "metadata": {
        "colab": {
          "base_uri": "https://localhost:8080/"
        },
        "id": "w9DzeNTbluaf",
        "outputId": "818cfa25-37c0-4dd0-87cb-0da113611f73"
      },
      "outputs": [],
      "source": [
        "! fairseq-generate $DATABIN \\\n",
        "  --path $CHECKPOINT/checkpoint1.pt \\\n",
        "  --beam 5 --batch-size 128"
      ]
    },
    {
      "cell_type": "code",
      "execution_count": null,
      "metadata": {
        "colab": {
          "base_uri": "https://localhost:8080/"
        },
        "id": "cdgyUpFvgUUW",
        "outputId": "aaa44a35-c24c-4019-ac5c-0e8c2d5b960a"
      },
      "outputs": [],
      "source": [
        "! fairseq-generate \\\n",
        "    $DATABIN \\\n",
        "    --path $CHECKPOINT/checkpoint.avg3.ptver \\\n",
        "    --beam 4 --lenpen 0.6 --remove-bpe > $CHECKPOINT/gen.out"
      ]
    },
    {
      "cell_type": "markdown",
      "metadata": {
        "id": "17zWxolm5D2d"
      },
      "source": []
    }
  ],
  "metadata": {
    "colab": {
      "collapsed_sections": [],
      "name": "transformer",
      "provenance": []
    },
    "kernelspec": {
      "display_name": "Python 3",
      "name": "python3"
    },
    "language_info": {
      "name": "python",
      "version": "3.8.12"
    }
  },
  "nbformat": 4,
  "nbformat_minor": 0
}
